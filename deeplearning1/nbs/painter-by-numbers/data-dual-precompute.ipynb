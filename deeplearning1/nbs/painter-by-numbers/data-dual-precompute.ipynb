{
 "cells": [
  {
   "cell_type": "code",
   "execution_count": 1,
   "metadata": {
    "collapsed": false
   },
   "outputs": [],
   "source": [
    "%matplotlib inline\n",
    "%load_ext autoreload\n",
    "%autoreload 2\n",
    "import sys\n",
    "sys.path.append('..')\n",
    "import matplotlib\n",
    "import matplotlib.pyplot as plt\n",
    "import ronan\n",
    "import pandas as pd\n",
    "import os\n",
    "import PIL"
   ]
  },
  {
   "cell_type": "code",
   "execution_count": 2,
   "metadata": {
    "collapsed": true
   },
   "outputs": [],
   "source": [
    "path = '../../../data/kaggle/painter-by-numbers/'"
   ]
  },
  {
   "cell_type": "code",
   "execution_count": 3,
   "metadata": {
    "collapsed": false
   },
   "outputs": [
    {
     "name": "stderr",
     "output_type": "stream",
     "text": [
      "DEBUG:ronan:building labeled pairs dataset\n",
      "DEBUG:ronan:labeled pairs dataset: len 1000544\n",
      "DEBUG:ronan:building train, validation split\n",
      "DEBUG:ronan:building unlabeled image pair dataset\n",
      "DEBUG:ronan:done building dataset\n"
     ]
    }
   ],
   "source": [
    "data = ronan.load_painting_datasets(assemble_images=ronan.image_pair)"
   ]
  },
  {
   "cell_type": "code",
   "execution_count": 4,
   "metadata": {
    "collapsed": false
   },
   "outputs": [
    {
     "data": {
      "text/plain": [
       "{'id_name': 'index',\n",
       " 'label_names': ['sameArtist'],\n",
       " 'labeled_pairs': <ronan.ImagePairsDataset at 0x7f48fddebf50>,\n",
       " 'test': <ronan.ImagePairsDataset at 0x7f48fc9ccdd0>,\n",
       " 'train': <chainer.datasets.sub_dataset.SubDataset at 0x7f48fea0c890>,\n",
       " 'validation': <chainer.datasets.sub_dataset.SubDataset at 0x7f48fc9cce10>}"
      ]
     },
     "execution_count": 4,
     "metadata": {},
     "output_type": "execute_result"
    }
   ],
   "source": [
    "data"
   ]
  },
  {
   "cell_type": "code",
   "execution_count": 5,
   "metadata": {
    "collapsed": false
   },
   "outputs": [
    {
     "ename": "AttributeError",
     "evalue": "'module' object has no attribute 'precompute_features'",
     "output_type": "error",
     "traceback": [
      "\u001b[0;31m---------------------------------------------------------------------------\u001b[0m",
      "\u001b[0;31mAttributeError\u001b[0m                            Traceback (most recent call last)",
      "\u001b[0;32m<ipython-input-5-3e7352dd11e7>\u001b[0m in \u001b[0;36m<module>\u001b[0;34m()\u001b[0m\n\u001b[1;32m      1\u001b[0m \u001b[0mfeaturizer\u001b[0m \u001b[0;34m=\u001b[0m \u001b[0mronan\u001b[0m\u001b[0;34m.\u001b[0m\u001b[0mResNet50Features\u001b[0m\u001b[0;34m(\u001b[0m\u001b[0;34m)\u001b[0m\u001b[0;34m\u001b[0m\u001b[0m\n\u001b[0;32m----> 2\u001b[0;31m \u001b[0mdata_feat\u001b[0m \u001b[0;34m=\u001b[0m \u001b[0mronan\u001b[0m\u001b[0;34m.\u001b[0m\u001b[0mprecompute_features\u001b[0m\u001b[0;34m(\u001b[0m\u001b[0mdata\u001b[0m\u001b[0;34m,\u001b[0m \u001b[0mfeaturizer\u001b[0m\u001b[0;34m)\u001b[0m\u001b[0;34m\u001b[0m\u001b[0m\n\u001b[0m\u001b[1;32m      3\u001b[0m \u001b[0mdata_feat\u001b[0m\u001b[0;34m\u001b[0m\u001b[0m\n",
      "\u001b[0;31mAttributeError\u001b[0m: 'module' object has no attribute 'precompute_features'"
     ]
    }
   ],
   "source": [
    "featurizer = ronan.ResNet50Features()\n",
    "data_feat = ronan.precompute_features(data, featurizer)\n",
    "data_feat"
   ]
  },
  {
   "cell_type": "code",
   "execution_count": null,
   "metadata": {
    "collapsed": true
   },
   "outputs": [],
   "source": []
  }
 ],
 "metadata": {
  "anaconda-cloud": {},
  "kernelspec": {
   "display_name": "Python [conda root]",
   "language": "python",
   "name": "conda-root-py"
  },
  "language_info": {
   "codemirror_mode": {
    "name": "ipython",
    "version": 2
   },
   "file_extension": ".py",
   "mimetype": "text/x-python",
   "name": "python",
   "nbconvert_exporter": "python",
   "pygments_lexer": "ipython2",
   "version": "2.7.12"
  }
 },
 "nbformat": 4,
 "nbformat_minor": 1
}
